{
  "nbformat": 4,
  "nbformat_minor": 0,
  "metadata": {
    "colab": {
      "provenance": [],
      "authorship_tag": "ABX9TyNqpuBsPpX6CRvrV10JZDLv",
      "include_colab_link": true
    },
    "kernelspec": {
      "name": "python3",
      "display_name": "Python 3"
    },
    "language_info": {
      "name": "python"
    }
  },
  "cells": [
    {
      "cell_type": "markdown",
      "metadata": {
        "id": "view-in-github",
        "colab_type": "text"
      },
      "source": [
        "<a href=\"https://colab.research.google.com/github/SantiagoMorenoV/Warehouse-Orders-Fulfillment-Analysis/blob/main/Warehouse.ipynb\" target=\"_parent\"><img src=\"https://colab.research.google.com/assets/colab-badge.svg\" alt=\"Open In Colab\"/></a>"
      ]
    },
    {
      "cell_type": "markdown",
      "source": [
        "# **Warehouse Orders Fulfillment Analysis**"
      ],
      "metadata": {
        "id": "5Utu5OmXBCLi"
      }
    },
    {
      "cell_type": "markdown",
      "source": [
        "Warehouse order fulfillment is a critical component of a business's success. Customers expect their orders to be delivered on time and in full. Failure to meet these expectations can result in dissatisfied customers and lost revenue. Inefficient warehouse operations can lead to longer fulfillment times and higher costs. It is essential to analyze warehouse order fulfillment data regularly to identify areas for improvement and optimize operations."
      ],
      "metadata": {
        "id": "c5gnRsGKgHAW"
      }
    },
    {
      "cell_type": "markdown",
      "source": [
        "#**Authenticating to GCP**"
      ],
      "metadata": {
        "id": "OPmdEi02M-5I"
      }
    },
    {
      "cell_type": "code",
      "execution_count": 1,
      "metadata": {
        "id": "0CbVhX7zA_xE"
      },
      "outputs": [],
      "source": [
        "from google.colab import auth\n",
        "auth.authenticate_user()\n"
      ]
    },
    {
      "cell_type": "markdown",
      "source": [
        "# **Connecting to the BigQuery API**"
      ],
      "metadata": {
        "id": "32bkKAFoNey7"
      }
    },
    {
      "cell_type": "markdown",
      "source": [
        "Entering the project"
      ],
      "metadata": {
        "id": "3VSdMm_nMgOI"
      }
    },
    {
      "cell_type": "code",
      "source": [
        "from google.cloud import bigquery\n",
        "project_id = 'data-cl-4-mod-w3'\n",
        "client = bigquery.Client(project=project_id)"
      ],
      "metadata": {
        "id": "EmsnPM2CNnkn"
      },
      "execution_count": 2,
      "outputs": []
    },
    {
      "cell_type": "code",
      "source": [
        "print(f\"Autenticated in the project '{client.project}'\")"
      ],
      "metadata": {
        "colab": {
          "base_uri": "https://localhost:8080/"
        },
        "id": "2aX8gE98cMh_",
        "outputId": "f18f1fcf-25c5-4e03-8fa6-4493dbbce8a4"
      },
      "execution_count": 3,
      "outputs": [
        {
          "output_type": "stream",
          "name": "stdout",
          "text": [
            "Autenticated in the project 'data-cl-4-mod-w3'\n"
          ]
        }
      ]
    },
    {
      "cell_type": "markdown",
      "source": [
        "# **Accessing the Dataset**"
      ],
      "metadata": {
        "id": "z5kgUGevS4rw"
      }
    },
    {
      "cell_type": "code",
      "source": [
        "dataset_ref = client.dataset(\"warehouse_orders\", project='data-cl-4-mod-w3')\n",
        "dataset = client.get_dataset(dataset_ref)"
      ],
      "metadata": {
        "id": "QXNYTeSWS5mv"
      },
      "execution_count": 4,
      "outputs": []
    },
    {
      "cell_type": "markdown",
      "source": [
        "# **Listing the tables**"
      ],
      "metadata": {
        "id": "U11yjNXWUAJv"
      }
    },
    {
      "cell_type": "code",
      "source": [
        "tables = list(client.list_tables(dataset))\n",
        "\n",
        "for table in tables:\n",
        "  print(table.table_id)"
      ],
      "metadata": {
        "colab": {
          "base_uri": "https://localhost:8080/"
        },
        "id": "ODy0uKRgUEZ0",
        "outputId": "422ec3a1-9554-4bf0-9c48-8f01dbea84d7"
      },
      "execution_count": 5,
      "outputs": [
        {
          "output_type": "stream",
          "name": "stdout",
          "text": [
            "Orders\n",
            "Warehouse\n"
          ]
        }
      ]
    },
    {
      "cell_type": "markdown",
      "source": [
        "# **Checking the table schema**"
      ],
      "metadata": {
        "id": "4SPmP0dMUw3y"
      }
    },
    {
      "cell_type": "code",
      "source": [
        "table_ref_orders = dataset_ref.table('Orders')\n",
        "table_orders = client.get_table(table_ref_orders)"
      ],
      "metadata": {
        "id": "uf_tqNaIUxo_"
      },
      "execution_count": 7,
      "outputs": []
    },
    {
      "cell_type": "code",
      "source": [
        "table_orders.schema"
      ],
      "metadata": {
        "colab": {
          "base_uri": "https://localhost:8080/"
        },
        "id": "PvX7Axd3WI3n",
        "outputId": "36a58500-d744-42cc-fcb5-dd08c3da6a00"
      },
      "execution_count": 9,
      "outputs": [
        {
          "output_type": "execute_result",
          "data": {
            "text/plain": [
              "[SchemaField('order_id', 'INTEGER', 'NULLABLE', None, None, (), None),\n",
              " SchemaField('customer_id', 'INTEGER', 'NULLABLE', None, None, (), None),\n",
              " SchemaField('warehouse_id', 'INTEGER', 'NULLABLE', None, None, (), None),\n",
              " SchemaField('order_date', 'DATE', 'NULLABLE', None, None, (), None),\n",
              " SchemaField('shipper_date', 'DATE', 'NULLABLE', None, None, (), None)]"
            ]
          },
          "metadata": {},
          "execution_count": 9
        }
      ]
    },
    {
      "cell_type": "code",
      "source": [
        "table_ref_warehouse = dataset_ref.table('Warehouse')\n",
        "table_warehouse = client.get_table(table_ref_warehouse)"
      ],
      "metadata": {
        "id": "-msb3zaYWQqf"
      },
      "execution_count": 12,
      "outputs": []
    },
    {
      "cell_type": "code",
      "source": [
        "table_warehouse.schema"
      ],
      "metadata": {
        "colab": {
          "base_uri": "https://localhost:8080/"
        },
        "id": "Csy5SkRxWRXv",
        "outputId": "12eb7fb4-0b7e-47b5-b724-02c50f9aff59"
      },
      "execution_count": 13,
      "outputs": [
        {
          "output_type": "execute_result",
          "data": {
            "text/plain": [
              "[SchemaField('warehouse_id', 'INTEGER', 'NULLABLE', None, None, (), None),\n",
              " SchemaField('warehouse_alias', 'STRING', 'NULLABLE', None, None, (), None),\n",
              " SchemaField('maximum_capacity', 'INTEGER', 'NULLABLE', None, None, (), None),\n",
              " SchemaField('employee_total', 'INTEGER', 'NULLABLE', None, None, (), None),\n",
              " SchemaField('state', 'STRING', 'NULLABLE', None, None, (), None)]"
            ]
          },
          "metadata": {},
          "execution_count": 13
        }
      ]
    },
    {
      "cell_type": "markdown",
      "source": [
        "# **Showing data in dataframes**"
      ],
      "metadata": {
        "id": "CynkJAkFW9_3"
      }
    },
    {
      "cell_type": "markdown",
      "source": [
        "### **Orders table**"
      ],
      "metadata": {
        "id": "qXPmtN-JX17I"
      }
    },
    {
      "cell_type": "code",
      "source": [
        "client.list_rows(table_orders, max_results=10).to_dataframe()"
      ],
      "metadata": {
        "colab": {
          "base_uri": "https://localhost:8080/",
          "height": 363
        },
        "id": "pqLVqtZbW-sm",
        "outputId": "b69393e6-4707-4871-ddd5-a62e0d2fed89"
      },
      "execution_count": 21,
      "outputs": [
        {
          "output_type": "execute_result",
          "data": {
            "text/plain": [
              "   order_id  customer_id  warehouse_id  order_date shipper_date\n",
              "0       789         3731          8118  2019-01-01   2019-01-04\n",
              "1       790         3486          8118  2019-01-01   2019-01-04\n",
              "2       791         2623          8118  2019-01-01   2019-01-04\n",
              "3       792         9869          8118  2019-01-01   2019-01-04\n",
              "4       793         6866          8118  2019-01-01   2019-01-04\n",
              "5       794         8055          8118  2019-01-01   2019-01-04\n",
              "6       795         1152          8118  2019-01-01   2019-01-04\n",
              "7       796         5765          8118  2019-01-01   2019-01-04\n",
              "8       797         6709          8118  2019-01-01   2019-01-04\n",
              "9       798         4866          2666  2019-01-01   2019-01-04"
            ],
            "text/html": [
              "\n",
              "  <div id=\"df-2d48104c-d58e-464c-9415-ad330672839e\">\n",
              "    <div class=\"colab-df-container\">\n",
              "      <div>\n",
              "<style scoped>\n",
              "    .dataframe tbody tr th:only-of-type {\n",
              "        vertical-align: middle;\n",
              "    }\n",
              "\n",
              "    .dataframe tbody tr th {\n",
              "        vertical-align: top;\n",
              "    }\n",
              "\n",
              "    .dataframe thead th {\n",
              "        text-align: right;\n",
              "    }\n",
              "</style>\n",
              "<table border=\"1\" class=\"dataframe\">\n",
              "  <thead>\n",
              "    <tr style=\"text-align: right;\">\n",
              "      <th></th>\n",
              "      <th>order_id</th>\n",
              "      <th>customer_id</th>\n",
              "      <th>warehouse_id</th>\n",
              "      <th>order_date</th>\n",
              "      <th>shipper_date</th>\n",
              "    </tr>\n",
              "  </thead>\n",
              "  <tbody>\n",
              "    <tr>\n",
              "      <th>0</th>\n",
              "      <td>789</td>\n",
              "      <td>3731</td>\n",
              "      <td>8118</td>\n",
              "      <td>2019-01-01</td>\n",
              "      <td>2019-01-04</td>\n",
              "    </tr>\n",
              "    <tr>\n",
              "      <th>1</th>\n",
              "      <td>790</td>\n",
              "      <td>3486</td>\n",
              "      <td>8118</td>\n",
              "      <td>2019-01-01</td>\n",
              "      <td>2019-01-04</td>\n",
              "    </tr>\n",
              "    <tr>\n",
              "      <th>2</th>\n",
              "      <td>791</td>\n",
              "      <td>2623</td>\n",
              "      <td>8118</td>\n",
              "      <td>2019-01-01</td>\n",
              "      <td>2019-01-04</td>\n",
              "    </tr>\n",
              "    <tr>\n",
              "      <th>3</th>\n",
              "      <td>792</td>\n",
              "      <td>9869</td>\n",
              "      <td>8118</td>\n",
              "      <td>2019-01-01</td>\n",
              "      <td>2019-01-04</td>\n",
              "    </tr>\n",
              "    <tr>\n",
              "      <th>4</th>\n",
              "      <td>793</td>\n",
              "      <td>6866</td>\n",
              "      <td>8118</td>\n",
              "      <td>2019-01-01</td>\n",
              "      <td>2019-01-04</td>\n",
              "    </tr>\n",
              "    <tr>\n",
              "      <th>5</th>\n",
              "      <td>794</td>\n",
              "      <td>8055</td>\n",
              "      <td>8118</td>\n",
              "      <td>2019-01-01</td>\n",
              "      <td>2019-01-04</td>\n",
              "    </tr>\n",
              "    <tr>\n",
              "      <th>6</th>\n",
              "      <td>795</td>\n",
              "      <td>1152</td>\n",
              "      <td>8118</td>\n",
              "      <td>2019-01-01</td>\n",
              "      <td>2019-01-04</td>\n",
              "    </tr>\n",
              "    <tr>\n",
              "      <th>7</th>\n",
              "      <td>796</td>\n",
              "      <td>5765</td>\n",
              "      <td>8118</td>\n",
              "      <td>2019-01-01</td>\n",
              "      <td>2019-01-04</td>\n",
              "    </tr>\n",
              "    <tr>\n",
              "      <th>8</th>\n",
              "      <td>797</td>\n",
              "      <td>6709</td>\n",
              "      <td>8118</td>\n",
              "      <td>2019-01-01</td>\n",
              "      <td>2019-01-04</td>\n",
              "    </tr>\n",
              "    <tr>\n",
              "      <th>9</th>\n",
              "      <td>798</td>\n",
              "      <td>4866</td>\n",
              "      <td>2666</td>\n",
              "      <td>2019-01-01</td>\n",
              "      <td>2019-01-04</td>\n",
              "    </tr>\n",
              "  </tbody>\n",
              "</table>\n",
              "</div>\n",
              "      <button class=\"colab-df-convert\" onclick=\"convertToInteractive('df-2d48104c-d58e-464c-9415-ad330672839e')\"\n",
              "              title=\"Convert this dataframe to an interactive table.\"\n",
              "              style=\"display:none;\">\n",
              "        \n",
              "  <svg xmlns=\"http://www.w3.org/2000/svg\" height=\"24px\"viewBox=\"0 0 24 24\"\n",
              "       width=\"24px\">\n",
              "    <path d=\"M0 0h24v24H0V0z\" fill=\"none\"/>\n",
              "    <path d=\"M18.56 5.44l.94 2.06.94-2.06 2.06-.94-2.06-.94-.94-2.06-.94 2.06-2.06.94zm-11 1L8.5 8.5l.94-2.06 2.06-.94-2.06-.94L8.5 2.5l-.94 2.06-2.06.94zm10 10l.94 2.06.94-2.06 2.06-.94-2.06-.94-.94-2.06-.94 2.06-2.06.94z\"/><path d=\"M17.41 7.96l-1.37-1.37c-.4-.4-.92-.59-1.43-.59-.52 0-1.04.2-1.43.59L10.3 9.45l-7.72 7.72c-.78.78-.78 2.05 0 2.83L4 21.41c.39.39.9.59 1.41.59.51 0 1.02-.2 1.41-.59l7.78-7.78 2.81-2.81c.8-.78.8-2.07 0-2.86zM5.41 20L4 18.59l7.72-7.72 1.47 1.35L5.41 20z\"/>\n",
              "  </svg>\n",
              "      </button>\n",
              "      \n",
              "  <style>\n",
              "    .colab-df-container {\n",
              "      display:flex;\n",
              "      flex-wrap:wrap;\n",
              "      gap: 12px;\n",
              "    }\n",
              "\n",
              "    .colab-df-convert {\n",
              "      background-color: #E8F0FE;\n",
              "      border: none;\n",
              "      border-radius: 50%;\n",
              "      cursor: pointer;\n",
              "      display: none;\n",
              "      fill: #1967D2;\n",
              "      height: 32px;\n",
              "      padding: 0 0 0 0;\n",
              "      width: 32px;\n",
              "    }\n",
              "\n",
              "    .colab-df-convert:hover {\n",
              "      background-color: #E2EBFA;\n",
              "      box-shadow: 0px 1px 2px rgba(60, 64, 67, 0.3), 0px 1px 3px 1px rgba(60, 64, 67, 0.15);\n",
              "      fill: #174EA6;\n",
              "    }\n",
              "\n",
              "    [theme=dark] .colab-df-convert {\n",
              "      background-color: #3B4455;\n",
              "      fill: #D2E3FC;\n",
              "    }\n",
              "\n",
              "    [theme=dark] .colab-df-convert:hover {\n",
              "      background-color: #434B5C;\n",
              "      box-shadow: 0px 1px 3px 1px rgba(0, 0, 0, 0.15);\n",
              "      filter: drop-shadow(0px 1px 2px rgba(0, 0, 0, 0.3));\n",
              "      fill: #FFFFFF;\n",
              "    }\n",
              "  </style>\n",
              "\n",
              "      <script>\n",
              "        const buttonEl =\n",
              "          document.querySelector('#df-2d48104c-d58e-464c-9415-ad330672839e button.colab-df-convert');\n",
              "        buttonEl.style.display =\n",
              "          google.colab.kernel.accessAllowed ? 'block' : 'none';\n",
              "\n",
              "        async function convertToInteractive(key) {\n",
              "          const element = document.querySelector('#df-2d48104c-d58e-464c-9415-ad330672839e');\n",
              "          const dataTable =\n",
              "            await google.colab.kernel.invokeFunction('convertToInteractive',\n",
              "                                                     [key], {});\n",
              "          if (!dataTable) return;\n",
              "\n",
              "          const docLinkHtml = 'Like what you see? Visit the ' +\n",
              "            '<a target=\"_blank\" href=https://colab.research.google.com/notebooks/data_table.ipynb>data table notebook</a>'\n",
              "            + ' to learn more about interactive tables.';\n",
              "          element.innerHTML = '';\n",
              "          dataTable['output_type'] = 'display_data';\n",
              "          await google.colab.output.renderOutput(dataTable, element);\n",
              "          const docLink = document.createElement('div');\n",
              "          docLink.innerHTML = docLinkHtml;\n",
              "          element.appendChild(docLink);\n",
              "        }\n",
              "      </script>\n",
              "    </div>\n",
              "  </div>\n",
              "  "
            ]
          },
          "metadata": {},
          "execution_count": 21
        }
      ]
    },
    {
      "cell_type": "markdown",
      "source": [
        "###**Warehouse table**"
      ],
      "metadata": {
        "id": "wjAuwFaPYAPe"
      }
    },
    {
      "cell_type": "code",
      "source": [
        "client.list_rows(table_warehouse, max_results=10).to_dataframe()"
      ],
      "metadata": {
        "colab": {
          "base_uri": "https://localhost:8080/",
          "height": 363
        },
        "id": "c4RjFa5kYBfj",
        "outputId": "f9eac2ea-7d49-47f4-a915-8a4661a802e8"
      },
      "execution_count": 20,
      "outputs": [
        {
          "output_type": "execute_result",
          "data": {
            "text/plain": [
              "   warehouse_id               warehouse_alias  maximum_capacity  \\\n",
              "0          1543   Somerset Fulfillment Center               210   \n",
              "1          2270       Bowling Green Warehouse               280   \n",
              "2          9080  Frankfort Fulfillment Center               235   \n",
              "3          2666    Lansing Fulfillment Center               290   \n",
              "4          3961     Lansing Storage Warehouse               740   \n",
              "5          8118  Ann Arbor Fulfillment Center               780   \n",
              "6          3417          Gatlinburg Warehouse               620   \n",
              "7          4338  Knoxville Fulfillment Center               215   \n",
              "8          6509    Memphis Fulfillment Center               755   \n",
              "9          9831           Clarsvill Warehouse               400   \n",
              "\n",
              "   employee_total state  \n",
              "0              14    KY  \n",
              "1              13    KY  \n",
              "2               5    KY  \n",
              "3              16    MI  \n",
              "4              22    MI  \n",
              "5              17    MI  \n",
              "6               6    TN  \n",
              "7              13    TN  \n",
              "8              22    TN  \n",
              "9              16    TN  "
            ],
            "text/html": [
              "\n",
              "  <div id=\"df-d7778d5e-aa11-4602-ae35-46bfa280f8a5\">\n",
              "    <div class=\"colab-df-container\">\n",
              "      <div>\n",
              "<style scoped>\n",
              "    .dataframe tbody tr th:only-of-type {\n",
              "        vertical-align: middle;\n",
              "    }\n",
              "\n",
              "    .dataframe tbody tr th {\n",
              "        vertical-align: top;\n",
              "    }\n",
              "\n",
              "    .dataframe thead th {\n",
              "        text-align: right;\n",
              "    }\n",
              "</style>\n",
              "<table border=\"1\" class=\"dataframe\">\n",
              "  <thead>\n",
              "    <tr style=\"text-align: right;\">\n",
              "      <th></th>\n",
              "      <th>warehouse_id</th>\n",
              "      <th>warehouse_alias</th>\n",
              "      <th>maximum_capacity</th>\n",
              "      <th>employee_total</th>\n",
              "      <th>state</th>\n",
              "    </tr>\n",
              "  </thead>\n",
              "  <tbody>\n",
              "    <tr>\n",
              "      <th>0</th>\n",
              "      <td>1543</td>\n",
              "      <td>Somerset Fulfillment Center</td>\n",
              "      <td>210</td>\n",
              "      <td>14</td>\n",
              "      <td>KY</td>\n",
              "    </tr>\n",
              "    <tr>\n",
              "      <th>1</th>\n",
              "      <td>2270</td>\n",
              "      <td>Bowling Green Warehouse</td>\n",
              "      <td>280</td>\n",
              "      <td>13</td>\n",
              "      <td>KY</td>\n",
              "    </tr>\n",
              "    <tr>\n",
              "      <th>2</th>\n",
              "      <td>9080</td>\n",
              "      <td>Frankfort Fulfillment Center</td>\n",
              "      <td>235</td>\n",
              "      <td>5</td>\n",
              "      <td>KY</td>\n",
              "    </tr>\n",
              "    <tr>\n",
              "      <th>3</th>\n",
              "      <td>2666</td>\n",
              "      <td>Lansing Fulfillment Center</td>\n",
              "      <td>290</td>\n",
              "      <td>16</td>\n",
              "      <td>MI</td>\n",
              "    </tr>\n",
              "    <tr>\n",
              "      <th>4</th>\n",
              "      <td>3961</td>\n",
              "      <td>Lansing Storage Warehouse</td>\n",
              "      <td>740</td>\n",
              "      <td>22</td>\n",
              "      <td>MI</td>\n",
              "    </tr>\n",
              "    <tr>\n",
              "      <th>5</th>\n",
              "      <td>8118</td>\n",
              "      <td>Ann Arbor Fulfillment Center</td>\n",
              "      <td>780</td>\n",
              "      <td>17</td>\n",
              "      <td>MI</td>\n",
              "    </tr>\n",
              "    <tr>\n",
              "      <th>6</th>\n",
              "      <td>3417</td>\n",
              "      <td>Gatlinburg Warehouse</td>\n",
              "      <td>620</td>\n",
              "      <td>6</td>\n",
              "      <td>TN</td>\n",
              "    </tr>\n",
              "    <tr>\n",
              "      <th>7</th>\n",
              "      <td>4338</td>\n",
              "      <td>Knoxville Fulfillment Center</td>\n",
              "      <td>215</td>\n",
              "      <td>13</td>\n",
              "      <td>TN</td>\n",
              "    </tr>\n",
              "    <tr>\n",
              "      <th>8</th>\n",
              "      <td>6509</td>\n",
              "      <td>Memphis Fulfillment Center</td>\n",
              "      <td>755</td>\n",
              "      <td>22</td>\n",
              "      <td>TN</td>\n",
              "    </tr>\n",
              "    <tr>\n",
              "      <th>9</th>\n",
              "      <td>9831</td>\n",
              "      <td>Clarsvill Warehouse</td>\n",
              "      <td>400</td>\n",
              "      <td>16</td>\n",
              "      <td>TN</td>\n",
              "    </tr>\n",
              "  </tbody>\n",
              "</table>\n",
              "</div>\n",
              "      <button class=\"colab-df-convert\" onclick=\"convertToInteractive('df-d7778d5e-aa11-4602-ae35-46bfa280f8a5')\"\n",
              "              title=\"Convert this dataframe to an interactive table.\"\n",
              "              style=\"display:none;\">\n",
              "        \n",
              "  <svg xmlns=\"http://www.w3.org/2000/svg\" height=\"24px\"viewBox=\"0 0 24 24\"\n",
              "       width=\"24px\">\n",
              "    <path d=\"M0 0h24v24H0V0z\" fill=\"none\"/>\n",
              "    <path d=\"M18.56 5.44l.94 2.06.94-2.06 2.06-.94-2.06-.94-.94-2.06-.94 2.06-2.06.94zm-11 1L8.5 8.5l.94-2.06 2.06-.94-2.06-.94L8.5 2.5l-.94 2.06-2.06.94zm10 10l.94 2.06.94-2.06 2.06-.94-2.06-.94-.94-2.06-.94 2.06-2.06.94z\"/><path d=\"M17.41 7.96l-1.37-1.37c-.4-.4-.92-.59-1.43-.59-.52 0-1.04.2-1.43.59L10.3 9.45l-7.72 7.72c-.78.78-.78 2.05 0 2.83L4 21.41c.39.39.9.59 1.41.59.51 0 1.02-.2 1.41-.59l7.78-7.78 2.81-2.81c.8-.78.8-2.07 0-2.86zM5.41 20L4 18.59l7.72-7.72 1.47 1.35L5.41 20z\"/>\n",
              "  </svg>\n",
              "      </button>\n",
              "      \n",
              "  <style>\n",
              "    .colab-df-container {\n",
              "      display:flex;\n",
              "      flex-wrap:wrap;\n",
              "      gap: 12px;\n",
              "    }\n",
              "\n",
              "    .colab-df-convert {\n",
              "      background-color: #E8F0FE;\n",
              "      border: none;\n",
              "      border-radius: 50%;\n",
              "      cursor: pointer;\n",
              "      display: none;\n",
              "      fill: #1967D2;\n",
              "      height: 32px;\n",
              "      padding: 0 0 0 0;\n",
              "      width: 32px;\n",
              "    }\n",
              "\n",
              "    .colab-df-convert:hover {\n",
              "      background-color: #E2EBFA;\n",
              "      box-shadow: 0px 1px 2px rgba(60, 64, 67, 0.3), 0px 1px 3px 1px rgba(60, 64, 67, 0.15);\n",
              "      fill: #174EA6;\n",
              "    }\n",
              "\n",
              "    [theme=dark] .colab-df-convert {\n",
              "      background-color: #3B4455;\n",
              "      fill: #D2E3FC;\n",
              "    }\n",
              "\n",
              "    [theme=dark] .colab-df-convert:hover {\n",
              "      background-color: #434B5C;\n",
              "      box-shadow: 0px 1px 3px 1px rgba(0, 0, 0, 0.15);\n",
              "      filter: drop-shadow(0px 1px 2px rgba(0, 0, 0, 0.3));\n",
              "      fill: #FFFFFF;\n",
              "    }\n",
              "  </style>\n",
              "\n",
              "      <script>\n",
              "        const buttonEl =\n",
              "          document.querySelector('#df-d7778d5e-aa11-4602-ae35-46bfa280f8a5 button.colab-df-convert');\n",
              "        buttonEl.style.display =\n",
              "          google.colab.kernel.accessAllowed ? 'block' : 'none';\n",
              "\n",
              "        async function convertToInteractive(key) {\n",
              "          const element = document.querySelector('#df-d7778d5e-aa11-4602-ae35-46bfa280f8a5');\n",
              "          const dataTable =\n",
              "            await google.colab.kernel.invokeFunction('convertToInteractive',\n",
              "                                                     [key], {});\n",
              "          if (!dataTable) return;\n",
              "\n",
              "          const docLinkHtml = 'Like what you see? Visit the ' +\n",
              "            '<a target=\"_blank\" href=https://colab.research.google.com/notebooks/data_table.ipynb>data table notebook</a>'\n",
              "            + ' to learn more about interactive tables.';\n",
              "          element.innerHTML = '';\n",
              "          dataTable['output_type'] = 'display_data';\n",
              "          await google.colab.output.renderOutput(dataTable, element);\n",
              "          const docLink = document.createElement('div');\n",
              "          docLink.innerHTML = docLinkHtml;\n",
              "          element.appendChild(docLink);\n",
              "        }\n",
              "      </script>\n",
              "    </div>\n",
              "  </div>\n",
              "  "
            ]
          },
          "metadata": {},
          "execution_count": 20
        }
      ]
    },
    {
      "cell_type": "markdown",
      "source": [
        "**Select the relevant columns and add a subquery to count the number of orders, then asigning a fulfilment level**"
      ],
      "metadata": {
        "id": "gmmv3NSaOSeQ"
      }
    },
    {
      "cell_type": "code",
      "source": [
        "query = \"\"\"\n",
        "SELECT \n",
        "  Warehouse.warehouse_id,\n",
        "  CONCAT(Warehouse.state, ': ', Warehouse.warehouse_alias) AS warehouse_name,\n",
        "  COUNT(Orders.order_id) AS number_of_orders,\n",
        "  (SELECT \n",
        "    COUNT(*)\n",
        "    FROM `data-cl-4-mod-w3.warehouse_orders.Orders` Orders)\n",
        "  AS total_oders,\n",
        "  CASE \n",
        "    WHEN COUNT(Orders.order_id)/(SELECT COUNT(*) FROM `data-cl-4-mod-w3.warehouse_orders.Orders` Orders) <= 0.20 \n",
        "    THEN \"Fulfilled 0-20% of Orders\"\n",
        "    WHEN COUNT(Orders.order_id)/(SELECT COUNT(*) FROM `data-cl-4-mod-w3.warehouse_orders.Orders` Orders) > 0.20 \n",
        "    AND COUNT(Orders.order_id)/(SELECT COUNT(*) FROM `data-cl-4-mod-w3.warehouse_orders.Orders` Orders) <= 0.60 \n",
        "    THEN \"Fulfilled 21-60% of Orders\"\n",
        "  ELSE \"Fulfilled more than 60% of Orders\"\n",
        "  END AS fulfillment_summary\n",
        "FROM \n",
        "  `data-cl-4-mod-w3.warehouse_orders.Warehouse` Warehouse\n",
        "LEFT JOIN `data-cl-4-mod-w3.warehouse_orders.Orders` Orders\n",
        "  ON Orders.warehouse_id = Warehouse.warehouse_id\n",
        "GROUP BY \n",
        "  Warehouse.warehouse_id,\n",
        "  warehouse_name\n",
        "HAVING \n",
        "  COUNT(Orders.order_id) > 0\n",
        "ORDER BY \n",
        "  number_of_orders DESC;\n",
        "\"\"\""
      ],
      "metadata": {
        "id": "W6oojoRkOY43"
      },
      "execution_count": 23,
      "outputs": []
    },
    {
      "cell_type": "markdown",
      "source": [
        "#**Running the query**"
      ],
      "metadata": {
        "id": "LZQ0EkebOmTX"
      }
    },
    {
      "cell_type": "code",
      "source": [
        "query_job = client.query(query)\n"
      ],
      "metadata": {
        "id": "CKk_DgsJOmqn"
      },
      "execution_count": 24,
      "outputs": []
    },
    {
      "cell_type": "markdown",
      "source": [
        "# **Waiting for the query to complete and retrieve the results**"
      ],
      "metadata": {
        "id": "SBFOGzcCO3tz"
      }
    },
    {
      "cell_type": "code",
      "source": [
        "#results = query_job.result()\n",
        "query_job"
      ],
      "metadata": {
        "colab": {
          "base_uri": "https://localhost:8080/"
        },
        "id": "Vm7QygTwO4Hv",
        "outputId": "5904f164-5fb5-4b92-afc7-8e0a355261aa"
      },
      "execution_count": 25,
      "outputs": [
        {
          "output_type": "execute_result",
          "data": {
            "text/plain": [
              "QueryJob<project=data-cl-4-mod-w3, location=US, id=78844f09-0603-4c91-98ba-ba3fa7086f67>"
            ]
          },
          "metadata": {},
          "execution_count": 25
        }
      ]
    },
    {
      "cell_type": "markdown",
      "source": [
        "#**Printing the results**"
      ],
      "metadata": {
        "id": "jrnWZDIyPFyf"
      }
    },
    {
      "cell_type": "code",
      "source": [
        "for row in query_job.result():\n",
        "  print(row)"
      ],
      "metadata": {
        "colab": {
          "base_uri": "https://localhost:8080/"
        },
        "id": "FGtRr9_vPGV_",
        "outputId": "7f761abc-6485-4acb-d8ed-60292cde5021"
      },
      "execution_count": 26,
      "outputs": [
        {
          "output_type": "stream",
          "name": "stdout",
          "text": [
            "Row((2666, 'MI: Lansing Fulfillment Center', 3178, 9999, 'Fulfilled 21-60% of Orders'), {'warehouse_id': 0, 'warehouse_name': 1, 'number_of_orders': 2, 'total_oders': 3, 'fulfillment_summary': 4})\n",
            "Row((8118, 'MI: Ann Arbor Fulfillment Center', 3027, 9999, 'Fulfilled 21-60% of Orders'), {'warehouse_id': 0, 'warehouse_name': 1, 'number_of_orders': 2, 'total_oders': 3, 'fulfillment_summary': 4})\n",
            "Row((6509, 'TN: Memphis Fulfillment Center', 2403, 9999, 'Fulfilled 21-60% of Orders'), {'warehouse_id': 0, 'warehouse_name': 1, 'number_of_orders': 2, 'total_oders': 3, 'fulfillment_summary': 4})\n",
            "Row((1543, 'KY: Somerset Fulfillment Center', 548, 9999, 'Fulfilled 0-20% of Orders'), {'warehouse_id': 0, 'warehouse_name': 1, 'number_of_orders': 2, 'total_oders': 3, 'fulfillment_summary': 4})\n",
            "Row((9080, 'KY: Frankfort Fulfillment Center', 500, 9999, 'Fulfilled 0-20% of Orders'), {'warehouse_id': 0, 'warehouse_name': 1, 'number_of_orders': 2, 'total_oders': 3, 'fulfillment_summary': 4})\n",
            "Row((4338, 'TN: Knoxville Fulfillment Center', 343, 9999, 'Fulfilled 0-20% of Orders'), {'warehouse_id': 0, 'warehouse_name': 1, 'number_of_orders': 2, 'total_oders': 3, 'fulfillment_summary': 4})\n"
          ]
        }
      ]
    },
    {
      "cell_type": "markdown",
      "source": [
        "### Printing the results again, but this time as as dataframe so it will be displayed as a table."
      ],
      "metadata": {
        "id": "Hinwau_Zu-_U"
      }
    },
    {
      "cell_type": "code",
      "source": [
        "import pandas as pd\n",
        "\n",
        "data = [] \n",
        "columns = ['warehouse_id', 'warehouse_name', 'number_of_orders', 'total_orders', 'fulfillment_summary']\n",
        "\n",
        "for row in query_job.result():\n",
        "  data.append(list(row))\n",
        "\n",
        "df = pd.DataFrame(data, columns=columns)\n",
        "\n",
        "print(df)"
      ],
      "metadata": {
        "colab": {
          "base_uri": "https://localhost:8080/"
        },
        "id": "1oOW-KxKujSM",
        "outputId": "88a4d27b-c934-4b42-863d-f8295c4728d7"
      },
      "execution_count": 28,
      "outputs": [
        {
          "output_type": "stream",
          "name": "stdout",
          "text": [
            "   warehouse_id                    warehouse_name  number_of_orders  \\\n",
            "0          2666    MI: Lansing Fulfillment Center              3178   \n",
            "1          8118  MI: Ann Arbor Fulfillment Center              3027   \n",
            "2          6509    TN: Memphis Fulfillment Center              2403   \n",
            "3          1543   KY: Somerset Fulfillment Center               548   \n",
            "4          9080  KY: Frankfort Fulfillment Center               500   \n",
            "5          4338  TN: Knoxville Fulfillment Center               343   \n",
            "\n",
            "   total_orders         fulfillment_summary  \n",
            "0          9999  Fulfilled 21-60% of Orders  \n",
            "1          9999  Fulfilled 21-60% of Orders  \n",
            "2          9999  Fulfilled 21-60% of Orders  \n",
            "3          9999   Fulfilled 0-20% of Orders  \n",
            "4          9999   Fulfilled 0-20% of Orders  \n",
            "5          9999   Fulfilled 0-20% of Orders  \n"
          ]
        }
      ]
    },
    {
      "cell_type": "markdown",
      "source": [
        "I have imported the pandas library to display the results in a table format.\n",
        "\n",
        "\"`data = []`\" is for initializing an empty list that will store the results.\n",
        "\n",
        "After that, I created a loop iterating over the query results. This loop appends each row of the query results to de \"`data`\" list.\n",
        "\n",
        "Finally, I implemented a data frame (`df`) object containing data from the query results with the \"`columns`\" list, and then the results are displayed as a table. "
      ],
      "metadata": {
        "id": "ABAHWIfdvuy9"
      }
    },
    {
      "cell_type": "markdown",
      "source": [
        "# **Brief analysis**"
      ],
      "metadata": {
        "id": "o9-dwXOziw11"
      }
    },
    {
      "cell_type": "markdown",
      "source": [
        "This problem had set a goal of 60% or above to be on a good scale of orders fulfilled. From the table above, it is possible to conclude all there would be room for improvement in all the warehouses.\n",
        "\n",
        "In summary:\n",
        "\n",
        "*   The Somerset Fulfillment Center in Kentucky has fulfilled the lowest percentage of orders, indicating a need for improvement in its warehouse operations.\n",
        "\n",
        "*   The Frankfort Fulfillment Center, also located in Kentucky, has a similarly low percentage of fulfilled orders and should also be a focus for improvement.\n",
        "\n",
        "*   The Knoxville Fulfillment Center in Tennessee is falling behind because of its small percentage of orders fulfilled.\n",
        "\n",
        "*   The Lansing and the Ann Arbor Fulfillment Centers in Michigan have fulfilled around 30% of orders. Thus, indicating room for improvement in their operations as well.\n",
        "\n",
        "*   The Memphis Fulfillment Center in Tennessee has fared slightly better, fulfilling around 24% of orders, but still has room for improvement."
      ],
      "metadata": {
        "id": "B6SAwZX4i7KF"
      }
    }
  ]
}